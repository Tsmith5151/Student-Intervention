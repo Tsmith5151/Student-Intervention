{
 "cells": [
  {
   "cell_type": "markdown",
   "metadata": {},
   "source": [
    "# Student Intervention - Project 2"
   ]
  },
  {
   "cell_type": "code",
   "execution_count": 5,
   "metadata": {
    "collapsed": false,
    "scrolled": true
   },
   "outputs": [],
   "source": [
    "%matplotlib inline"
   ]
  },
  {
   "cell_type": "markdown",
   "metadata": {},
   "source": [
    "Import libraries"
   ]
  },
  {
   "cell_type": "code",
   "execution_count": 6,
   "metadata": {
    "collapsed": false,
    "scrolled": true
   },
   "outputs": [],
   "source": [
    "import numpy as np\n",
    "import pandas as pd\n",
    "import csv\n",
    "import time\n",
    "from sklearn import cross_validation\n",
    "from sklearn.cross_validation import cross_val_score\n",
    "from sklearn.cross_validation import train_test_split, KFold\n",
    "from sklearn.cross_validation import StratifiedShuffleSplit\n",
    "from sklearn.naive_bayes import GaussianNB\n",
    "from sklearn.ensemble import RandomForestClassifier\n",
    "from sklearn.svm import SVC\n",
    "from sklearn.grid_search import GridSearchCV\n",
    "from sklearn.metrics import precision_recall_fscore_support, f1_score\n",
    "from sklearn.metrics import classification_report\n",
    "\n",
    "# First, decide how many training vs test samples you want\n",
    "from sklearn.cross_validation import train_test_split\n",
    "\n",
    "import pylab as pl\n",
    "import matplotlib.pyplot as pl\n",
    "from sklearn.preprocessing import scale\n",
    "from ggplot import *\n",
    "from sklearn import metrics\n",
    "\n",
    "pl.style.use('fivethirtyeight')\n",
    "import seaborn as sns"
   ]
  },
  {
   "cell_type": "code",
   "execution_count": 7,
   "metadata": {
    "collapsed": false,
    "scrolled": false
   },
   "outputs": [
    {
     "name": "stdout",
     "output_type": "stream",
     "text": [
      "Student data read successfully!\n"
     ]
    }
   ],
   "source": [
    "student_data = pd.read_csv(\"student-data.csv\")\n",
    "print (\"Student data read successfully!\")\n"
   ]
  },
  {
   "cell_type": "code",
   "execution_count": 8,
   "metadata": {
    "collapsed": false,
    "scrolled": true
   },
   "outputs": [
    {
     "data": {
      "text/html": [
       "<div>\n",
       "<table border=\"1\" class=\"dataframe\">\n",
       "  <thead>\n",
       "    <tr style=\"text-align: right;\">\n",
       "      <th></th>\n",
       "      <th>school</th>\n",
       "      <th>sex</th>\n",
       "      <th>age</th>\n",
       "      <th>address</th>\n",
       "      <th>famsize</th>\n",
       "      <th>Pstatus</th>\n",
       "      <th>Medu</th>\n",
       "      <th>Fedu</th>\n",
       "      <th>Mjob</th>\n",
       "      <th>Fjob</th>\n",
       "      <th>...</th>\n",
       "      <th>internet</th>\n",
       "      <th>romantic</th>\n",
       "      <th>famrel</th>\n",
       "      <th>freetime</th>\n",
       "      <th>goout</th>\n",
       "      <th>Dalc</th>\n",
       "      <th>Walc</th>\n",
       "      <th>health</th>\n",
       "      <th>absences</th>\n",
       "      <th>passed</th>\n",
       "    </tr>\n",
       "  </thead>\n",
       "  <tbody>\n",
       "    <tr>\n",
       "      <th>0</th>\n",
       "      <td>GP</td>\n",
       "      <td>F</td>\n",
       "      <td>18</td>\n",
       "      <td>U</td>\n",
       "      <td>GT3</td>\n",
       "      <td>A</td>\n",
       "      <td>4</td>\n",
       "      <td>4</td>\n",
       "      <td>at_home</td>\n",
       "      <td>teacher</td>\n",
       "      <td>...</td>\n",
       "      <td>no</td>\n",
       "      <td>no</td>\n",
       "      <td>4</td>\n",
       "      <td>3</td>\n",
       "      <td>4</td>\n",
       "      <td>1</td>\n",
       "      <td>1</td>\n",
       "      <td>3</td>\n",
       "      <td>6</td>\n",
       "      <td>no</td>\n",
       "    </tr>\n",
       "    <tr>\n",
       "      <th>1</th>\n",
       "      <td>GP</td>\n",
       "      <td>F</td>\n",
       "      <td>17</td>\n",
       "      <td>U</td>\n",
       "      <td>GT3</td>\n",
       "      <td>T</td>\n",
       "      <td>1</td>\n",
       "      <td>1</td>\n",
       "      <td>at_home</td>\n",
       "      <td>other</td>\n",
       "      <td>...</td>\n",
       "      <td>yes</td>\n",
       "      <td>no</td>\n",
       "      <td>5</td>\n",
       "      <td>3</td>\n",
       "      <td>3</td>\n",
       "      <td>1</td>\n",
       "      <td>1</td>\n",
       "      <td>3</td>\n",
       "      <td>4</td>\n",
       "      <td>no</td>\n",
       "    </tr>\n",
       "    <tr>\n",
       "      <th>2</th>\n",
       "      <td>GP</td>\n",
       "      <td>F</td>\n",
       "      <td>15</td>\n",
       "      <td>U</td>\n",
       "      <td>LE3</td>\n",
       "      <td>T</td>\n",
       "      <td>1</td>\n",
       "      <td>1</td>\n",
       "      <td>at_home</td>\n",
       "      <td>other</td>\n",
       "      <td>...</td>\n",
       "      <td>yes</td>\n",
       "      <td>no</td>\n",
       "      <td>4</td>\n",
       "      <td>3</td>\n",
       "      <td>2</td>\n",
       "      <td>2</td>\n",
       "      <td>3</td>\n",
       "      <td>3</td>\n",
       "      <td>10</td>\n",
       "      <td>yes</td>\n",
       "    </tr>\n",
       "    <tr>\n",
       "      <th>3</th>\n",
       "      <td>GP</td>\n",
       "      <td>F</td>\n",
       "      <td>15</td>\n",
       "      <td>U</td>\n",
       "      <td>GT3</td>\n",
       "      <td>T</td>\n",
       "      <td>4</td>\n",
       "      <td>2</td>\n",
       "      <td>health</td>\n",
       "      <td>services</td>\n",
       "      <td>...</td>\n",
       "      <td>yes</td>\n",
       "      <td>yes</td>\n",
       "      <td>3</td>\n",
       "      <td>2</td>\n",
       "      <td>2</td>\n",
       "      <td>1</td>\n",
       "      <td>1</td>\n",
       "      <td>5</td>\n",
       "      <td>2</td>\n",
       "      <td>yes</td>\n",
       "    </tr>\n",
       "    <tr>\n",
       "      <th>4</th>\n",
       "      <td>GP</td>\n",
       "      <td>F</td>\n",
       "      <td>16</td>\n",
       "      <td>U</td>\n",
       "      <td>GT3</td>\n",
       "      <td>T</td>\n",
       "      <td>3</td>\n",
       "      <td>3</td>\n",
       "      <td>other</td>\n",
       "      <td>other</td>\n",
       "      <td>...</td>\n",
       "      <td>no</td>\n",
       "      <td>no</td>\n",
       "      <td>4</td>\n",
       "      <td>3</td>\n",
       "      <td>2</td>\n",
       "      <td>1</td>\n",
       "      <td>2</td>\n",
       "      <td>5</td>\n",
       "      <td>4</td>\n",
       "      <td>yes</td>\n",
       "    </tr>\n",
       "  </tbody>\n",
       "</table>\n",
       "<p>5 rows × 31 columns</p>\n",
       "</div>"
      ],
      "text/plain": [
       "  school sex  age address famsize Pstatus  Medu  Fedu     Mjob      Fjob  \\\n",
       "0     GP   F   18       U     GT3       A     4     4  at_home   teacher   \n",
       "1     GP   F   17       U     GT3       T     1     1  at_home     other   \n",
       "2     GP   F   15       U     LE3       T     1     1  at_home     other   \n",
       "3     GP   F   15       U     GT3       T     4     2   health  services   \n",
       "4     GP   F   16       U     GT3       T     3     3    other     other   \n",
       "\n",
       "   ...   internet romantic  famrel  freetime  goout Dalc Walc health absences  \\\n",
       "0  ...         no       no       4         3      4    1    1      3        6   \n",
       "1  ...        yes       no       5         3      3    1    1      3        4   \n",
       "2  ...        yes       no       4         3      2    2    3      3       10   \n",
       "3  ...        yes      yes       3         2      2    1    1      5        2   \n",
       "4  ...         no       no       4         3      2    1    2      5        4   \n",
       "\n",
       "  passed  \n",
       "0     no  \n",
       "1     no  \n",
       "2    yes  \n",
       "3    yes  \n",
       "4    yes  \n",
       "\n",
       "[5 rows x 31 columns]"
      ]
     },
     "execution_count": 8,
     "metadata": {},
     "output_type": "execute_result"
    }
   ],
   "source": [
    "student_data.head()"
   ]
  },
  {
   "cell_type": "code",
   "execution_count": 9,
   "metadata": {
    "collapsed": false,
    "scrolled": true
   },
   "outputs": [
    {
     "name": "stdout",
     "output_type": "stream",
     "text": [
      "Total number of students: 395\n",
      "Number of students who passed: 265\n",
      "Number of students who failed: 130\n",
      "Number of features: 30\n",
      "Graduation rate of the class: 67.09%\n"
     ]
    }
   ],
   "source": [
    "n_students = student_data.shape[0]\n",
    "n_features = student_data.shape[1]-1\n",
    "n_passed =  student_data[student_data['passed'] =='yes'].shape[0]\n",
    "n_failed =  student_data[student_data['passed'] == 'no'].shape[0]\n",
    "grad_rate = (n_passed*1.0) / (n_students*1.0) * 100\n",
    "print \"Total number of students: {}\".format(n_students)\n",
    "print \"Number of students who passed: {}\".format(n_passed)\n",
    "print \"Number of students who failed: {}\".format(n_failed)\n",
    "print \"Number of features: {}\".format(n_features)\n",
    "print \"Graduation rate of the class: {:.2f}%\".format(float(grad_rate))"
   ]
  },
  {
   "cell_type": "code",
   "execution_count": 10,
   "metadata": {
    "collapsed": false,
    "scrolled": false
   },
   "outputs": [
    {
     "name": "stdout",
     "output_type": "stream",
     "text": [
      "Feature column(s):-\n",
      "['school', 'sex', 'age', 'address', 'famsize', 'Pstatus', 'Medu', 'Fedu', 'Mjob', 'Fjob', 'reason', 'guardian', 'traveltime', 'studytime', 'failures', 'schoolsup', 'famsup', 'paid', 'activities', 'nursery', 'higher', 'internet', 'romantic', 'famrel', 'freetime', 'goout', 'Dalc', 'Walc', 'health', 'absences']\n",
      "Target column: passed\n"
     ]
    }
   ],
   "source": [
    "# Extract feature (X) and target (y) columns\n",
    "feature_cols = list(student_data.columns[:-1])  # all columns but last are features\n",
    "target_col = student_data.columns[-1]  # last column is the target/label\n",
    "print \"Feature column(s):-\\n{}\".format(feature_cols)\n",
    "print \"Target column: {}\".format(target_col)\n",
    "\n",
    "X_all = student_data[feature_cols]  # feature values for all students\n",
    "y_all = student_data[target_col]  # corresponding targets/labels\n",
    "#print X_all.head()  # print the first 5 rows"
   ]
  },
  {
   "cell_type": "code",
   "execution_count": 11,
   "metadata": {
    "collapsed": false,
    "scrolled": true
   },
   "outputs": [
    {
     "name": "stdout",
     "output_type": "stream",
     "text": [
      "Processed feature columns (48):-\n",
      "['school_GP', 'school_MS', 'sex_F', 'sex_M', 'age', 'address_R', 'address_U', 'famsize_GT3', 'famsize_LE3', 'Pstatus_A', 'Pstatus_T', 'Medu', 'Fedu', 'Mjob_at_home', 'Mjob_health', 'Mjob_other', 'Mjob_services', 'Mjob_teacher', 'Fjob_at_home', 'Fjob_health', 'Fjob_other', 'Fjob_services', 'Fjob_teacher', 'reason_course', 'reason_home', 'reason_other', 'reason_reputation', 'guardian_father', 'guardian_mother', 'guardian_other', 'traveltime', 'studytime', 'failures', 'schoolsup', 'famsup', 'paid', 'activities', 'nursery', 'higher', 'internet', 'romantic', 'famrel', 'freetime', 'goout', 'Dalc', 'Walc', 'health', 'absences']\n"
     ]
    }
   ],
   "source": [
    "# Preprocess feature columns\n",
    "def preprocess_features(X):\n",
    "    outX = pd.DataFrame(index=X.index)  # output dataframe, initially empty\n",
    "\n",
    "    # Check each column\n",
    "    for col, col_data in X.iteritems():\n",
    "        # If data type is non-numeric, try to replace all yes/no values with 1/0\n",
    "        if col_data.dtype == object:\n",
    "            col_data = col_data.replace(['yes', 'no'], [1, 0])\n",
    "        # Note: This should change the data type for yes/no columns to int\n",
    "\n",
    "        # If still non-numeric, convert to one or more dummy variables\n",
    "        if col_data.dtype == object:\n",
    "            col_data = pd.get_dummies(col_data, prefix=col)  # e.g. 'school' => 'school_GP', 'school_MS'\n",
    "\n",
    "        outX = outX.join(col_data)  # collect column(s) in output dataframe\n",
    "\n",
    "    return outX\n",
    "\n",
    "X_all = preprocess_features(X_all)\n",
    "print \"Processed feature columns ({}):-\\n{}\".format(len(X_all.columns), list(X_all.columns))"
   ]
  },
  {
   "cell_type": "code",
   "execution_count": 12,
   "metadata": {
    "collapsed": false
   },
   "outputs": [
    {
     "name": "stdout",
     "output_type": "stream",
     "text": [
      "school_GP  count    395.000000\n",
      "           mean       0.883544\n",
      "           std        0.321177\n",
      "           min        0.000000\n",
      "           25%        1.000000\n",
      "           50%        1.000000\n",
      "           75%        1.000000\n",
      "           max        1.000000\n",
      "school_MS  count    395.000000\n",
      "           mean       0.116456\n",
      "           std        0.321177\n",
      "           min        0.000000\n",
      "           25%        0.000000\n",
      "           50%        0.000000\n",
      "           75%        0.000000\n",
      "           max        1.000000\n",
      "sex_F      count    395.000000\n",
      "           mean       0.526582\n",
      "           std        0.499926\n",
      "           min        0.000000\n",
      "           25%        0.000000\n",
      "           50%        1.000000\n",
      "           75%        1.000000\n",
      "           max        1.000000\n",
      "sex_M      count    395.000000\n",
      "           mean       0.473418\n",
      "           std        0.499926\n",
      "           min        0.000000\n",
      "           25%        0.000000\n",
      "           50%        0.000000\n",
      "                       ...    \n",
      "Walc       std        1.287897\n",
      "           min        1.000000\n",
      "           25%        1.000000\n",
      "           50%        2.000000\n",
      "           75%        3.000000\n",
      "           max        5.000000\n",
      "health     count    395.000000\n",
      "           mean       3.554430\n",
      "           std        1.390303\n",
      "           min        1.000000\n",
      "           25%        3.000000\n",
      "           50%        4.000000\n",
      "           75%        5.000000\n",
      "           max        5.000000\n",
      "absences   count    395.000000\n",
      "           mean       5.708861\n",
      "           std        8.003096\n",
      "           min        0.000000\n",
      "           25%        0.000000\n",
      "           50%        4.000000\n",
      "           75%        8.000000\n",
      "           max       75.000000\n",
      "passed     count    395.000000\n",
      "           mean       0.670886\n",
      "           std        0.470487\n",
      "           min        0.000000\n",
      "           25%        0.000000\n",
      "           50%        1.000000\n",
      "           75%        1.000000\n",
      "           max        1.000000\n",
      "dtype: float64\n"
     ]
    }
   ],
   "source": [
    "#Format Target yes/no values with 1/0\n",
    "y = pd.DataFrame(y_all, index = y_all.index)\n",
    "y = y.replace(['yes', 'no'], [1, 0])\n",
    "#in the form (X, 1), but the method expects a 1d array and has to be in the form (X, )\n",
    "\n",
    "#join dataset\n",
    "df_data = pd.concat([X_all, y], axis = 1)\n",
    "df1 = df_data.describe()\n",
    "print(df1.unstack())\n",
    "\n",
    "#Data Correlation:\n",
    "df = df_data.corr()\n",
    "corr_target = df.ix[-1][:-1] #Target is last column in the DataFrame\n",
    "predict = corr_target.sort_values(ascending=False)\n",
    "df_sort = corr_target.sort_values(ascending=False)\n",
    "#print df_sort"
   ]
  },
  {
   "cell_type": "code",
   "execution_count": 13,
   "metadata": {
    "collapsed": false
   },
   "outputs": [
    {
     "name": "stdout",
     "output_type": "stream",
     "text": [
      "Training Set: 300.00 Samples\n",
      "Testing Set: 95.00 Samples\n"
     ]
    }
   ],
   "source": [
    "# First, decide how many training vs test samples you want\n",
    "num_all = student_data.shape[0]  # same as len(student_data)\n",
    "num_train = 300  # about 75% of the data\n",
    "num_test = num_all - num_train\n",
    "\n",
    "y = student_data['passed']\n",
    "#print y\n",
    "\n",
    "def Stratified_Shuffle_Split(X,y,num_test):\n",
    "    sss = StratifiedShuffleSplit(y, 1, test_size=num_test, random_state = None)\n",
    "    for train_index, test_index in sss:\n",
    "        X_train, X_test = X.iloc[train_index], X.iloc[test_index]\n",
    "        y_train, y_test = y.iloc[train_index], y.iloc[test_index]\n",
    "    return X_train, X_test, y_train, y_test\n",
    "    \n",
    "X_train, X_test, y_train, y_test = Stratified_Shuffle_Split(X_all, y, num_test)\n",
    "print \"Training Set: {0:.2f} Samples\".format(X_train.shape[0])\n",
    "print \"Testing Set: {0:.2f} Samples\".format(X_test.shape[0])"
   ]
  },
  {
   "cell_type": "markdown",
   "metadata": {},
   "source": [
    "Train Model"
   ]
  },
  {
   "cell_type": "code",
   "execution_count": 14,
   "metadata": {
    "collapsed": false
   },
   "outputs": [],
   "source": [
    "def train_classifier(clf, X_train, y_train):\n",
    "    print \"Training {}:\".format(clf.__class__.__name__)\n",
    "    start = time.time()\n",
    "    clf.fit(X_train, y_train)\n",
    "    end = time.time()\n",
    "    train_clf_time = end - start\n",
    "    print \"Training Time (secs): {:.3f}\".format(train_clf_time)\n",
    "    return train_clf_time"
   ]
  },
  {
   "cell_type": "markdown",
   "metadata": {},
   "source": [
    "Predict on Training Set and Compute F1 Score"
   ]
  },
  {
   "cell_type": "code",
   "execution_count": 15,
   "metadata": {
    "collapsed": false
   },
   "outputs": [],
   "source": [
    "def predict_labels(clf, features, target):\n",
    "    print \"Predicting labels using {}:\".format(clf.__class__.__name__)\n",
    "    start = time.time()\n",
    "    y_pred = clf.predict(features)\n",
    "    end = time.time()\n",
    "    prediction_time = end - start\n",
    "    print \"Prediction Time (secs): {:.3f}\".format(prediction_time)\n",
    "    \n",
    "    p,r,f,s = precision_recall_fscore_support(target.values, y_pred, average='binary', pos_label='yes')\n",
    "    print \"Precision Score: {0:.4f}\".format(p)\n",
    "    print \"Recall Score: {0:.4f}\".format(r)\n",
    "    print \"F1 Score: {0:.4f}\".format(f)\n",
    "    #\"Macro\": Calculate metrics for each label, and find their unweighted mean. This does not take label imbalance into account."
   ]
  },
  {
   "cell_type": "markdown",
   "metadata": {},
   "source": [
    "Train and Predict Using Different Training Set Sizes:"
   ]
  },
  {
   "cell_type": "code",
   "execution_count": 16,
   "metadata": {
    "collapsed": false
   },
   "outputs": [],
   "source": [
    "def train_predict(clf, X_train, y_train, X_test, y_test):\n",
    "    print \"------------------------------------------\"\n",
    "    print \"Training set size: {}\".format(len(X_train))\n",
    "    train_diff = train_classifier(clf, X_train, y_train)\n",
    "    \n",
    "    # Train and predict on diff. training set sizes\n",
    "    f1_score_train, pred_time_train = predict_labels(clf, X_train, y_train)\n",
    "    print \"F1 score for training set:\",(f1_score_train)\n",
    "    \n",
    "    # Predict on test data\n",
    "    f1_score_test, pred_time_test = predict_labels(clf, X_test, y_test)\n",
    "    print \"F1 score for test set:\",(f1_score_test)\n",
    "    \n",
    "    return (f1_score_train, f1_score_test, train_diff, pred_time_test)\n"
   ]
  },
  {
   "cell_type": "markdown",
   "metadata": {},
   "source": [
    "# Model 1: Naive Bayes"
   ]
  },
  {
   "cell_type": "code",
   "execution_count": 17,
   "metadata": {
    "collapsed": false,
    "scrolled": true
   },
   "outputs": [
    {
     "name": "stdout",
     "output_type": "stream",
     "text": [
      "Training:\n",
      "Testing Data Size: 300\n",
      "Training GaussianNB:\n",
      "Training Time (secs): 0.004\n",
      "Predicting labels using GaussianNB:\n",
      "Prediction Time (secs): 0.002\n",
      "Precision Score: 0.7961\n",
      "Recall Score: 0.8159\n",
      "F1 Score: 0.8059\n",
      "**********************************************************\n",
      "Testing:\n",
      "Testing Data Size: 95\n",
      "Predicting labels using GaussianNB:\n",
      "Prediction Time (secs): 0.001\n",
      "Precision Score: 0.7077\n",
      "Recall Score: 0.7188\n",
      "F1 Score: 0.7132\n"
     ]
    }
   ],
   "source": [
    "#Predict on Training Data\n",
    "clf_NB = GaussianNB()\n",
    "\n",
    "print\"Training:\"\n",
    "print \"Testing Data Size:\",len(X_train)\n",
    "# Fit model to training data\n",
    "train_classifier(clf_NB, X_train, y_train)\n",
    "\n",
    "# Predict on training set and compute F1 score\n",
    "trainin_score = predict_labels(clf_NB, X_train, y_train)\n",
    "\n",
    "#Predict on Testing Data\n",
    "print \"**********************************************************\"\n",
    "print \"Testing:\"\n",
    "print \"Testing Data Size:\",len(X_test)\n",
    "testing_score = predict_labels(clf_NB, X_test, y_test)\n",
    "\n"
   ]
  },
  {
   "cell_type": "markdown",
   "metadata": {},
   "source": [
    "# Model 2: SVC"
   ]
  },
  {
   "cell_type": "code",
   "execution_count": 18,
   "metadata": {
    "collapsed": false
   },
   "outputs": [
    {
     "name": "stdout",
     "output_type": "stream",
     "text": [
      "Training:\n",
      "Testing Data Size: 300\n",
      "Training SVC:\n",
      "Training Time (secs): 0.014\n",
      "Predicting labels using SVC:\n",
      "Prediction Time (secs): 0.008\n",
      "Precision Score: 0.7634\n",
      "Recall Score: 0.9950\n",
      "F1 Score: 0.8639\n",
      "**********************************************************\n",
      "Testing:\n",
      "Testing Data Size: 95\n",
      "Predicting labels using SVC:\n",
      "Prediction Time (secs): 0.003\n",
      "Precision Score: 0.6977\n",
      "Recall Score: 0.9375\n",
      "F1 Score: 0.8000\n"
     ]
    }
   ],
   "source": [
    "#Predict on Training Data\n",
    "clf_SVC = SVC()\n",
    "\n",
    "print\"Training:\"\n",
    "print \"Testing Data Size:\",len(X_train)\n",
    "# Fit model to training data\n",
    "train_classifier(clf_SVC, X_train, y_train)\n",
    "\n",
    "# Predict on training set and compute F1 score\n",
    "trainin_score = predict_labels(clf_SVC, X_train, y_train)\n",
    "\n",
    "#Predict on Testing Data\n",
    "print \"**********************************************************\"\n",
    "print \"Testing:\"\n",
    "print \"Testing Data Size:\",len(X_test)\n",
    "testing_score = predict_labels(clf_SVC, X_test, y_test)\n"
   ]
  },
  {
   "cell_type": "markdown",
   "metadata": {},
   "source": [
    "# Model 3: Random Forest"
   ]
  },
  {
   "cell_type": "code",
   "execution_count": 19,
   "metadata": {
    "collapsed": false,
    "scrolled": true
   },
   "outputs": [
    {
     "name": "stdout",
     "output_type": "stream",
     "text": [
      "Training:\n",
      "Testing Data Size: 300\n",
      "Training RandomForestClassifier:\n",
      "Training Time (secs): 0.443\n",
      "Predicting labels using RandomForestClassifier:\n",
      "Prediction Time (secs): 0.019\n",
      "Precision Score: 1.0000\n",
      "Recall Score: 1.0000\n",
      "F1 Score: 1.0000\n",
      "**********************************************************\n",
      "Testing:\n",
      "Testing Data Size: 95\n",
      "Predicting labels using RandomForestClassifier:\n",
      "Prediction Time (secs): 0.013\n",
      "Precision Score: 0.7089\n",
      "Recall Score: 0.8750\n",
      "F1 Score: 0.7832\n"
     ]
    },
    {
     "data": {
      "image/png": "[encoded data removed]",
      "text/plain": [
       "<matplotlib.figure.Figure at 0x110e09bd0>"
      ]
     },
     "metadata": {},
     "output_type": "display_data"
    }
   ],
   "source": [
    "#Predict on Training Data\n",
    "clf_RF = RandomForestClassifier(n_estimators = 100)\n",
    "\n",
    "print\"Training:\"\n",
    "print \"Testing Data Size:\",len(X_train)\n",
    "# Fit model to training data\n",
    "train_classifier(clf_RF, X_train, y_train)\n",
    "\n",
    "# Predict on training set and compute F1 score\n",
    "trainin_score = predict_labels(clf_RF, X_train, y_train)\n",
    "\n",
    "\n",
    "#Predict on Testing Data\n",
    "print \"**********************************************************\"\n",
    "print \"Testing:\"\n",
    "print \"Testing Data Size:\",len(X_test)\n",
    "testing_score = predict_labels(clf_RF, X_test, y_test)\n",
    "\n",
    "# Relative Importance (Features)\n",
    "clf_RF.fit(X_train,y_train)\n",
    "# Get Feature Importance from the classifier\n",
    "feature_importance = clf_RF.feature_importances_\n",
    "# Normalize The Features\n",
    "feature_importance = 100.0 * (feature_importance / feature_importance.max())\n",
    "# Sort Features and Creat Horizontal Bar Plot\n",
    "sorted_idx = np.argsort(feature_importance)\n",
    "pos = np.arange(sorted_idx.shape[0]) + .5\n",
    "pl.figure(figsize=(16, 12))\n",
    "pl.barh(pos, feature_importance[sorted_idx], align='center', color='#0033CC')\n",
    "pl.yticks(pos, np.asanyarray(df.columns.tolist())[sorted_idx])\n",
    "pl.xlabel(\"Relative Importance\")\n",
    "pl.title(\"Variable Importance - Random Forest\")\n",
    "pl.show()\n"
   ]
  },
  {
   "cell_type": "markdown",
   "metadata": {},
   "source": [
    "# Fine Tune Model:"
   ]
  },
  {
   "cell_type": "code",
   "execution_count": 20,
   "metadata": {
    "collapsed": false
   },
   "outputs": [],
   "source": [
    "# Fine-tune the model and report the best F1 score\n",
    "\n",
    "# Reformat \"Y\" from 'yes/no' to '1/0'\n",
    "def reformat(col_data):\n",
    "    return col_data.replace(['yes', 'no'], [1, 0])\n",
    "\n",
    "def iterate_fit_predict(number_runs):\n",
    "        f1_scores = []\n",
    "        gamma = []\n",
    "        C = []\n",
    "\n",
    "        y = reformat(student_data['passed'])\n",
    "        \n",
    "        for num in range(0,number_runs):\n",
    "            X_train, X_test, y_train, y_test = Stratified_Shuffle_Split(X_all, y, num_test)\n",
    "            clf_SVC = SVC()\n",
    "            parameters = [{'C':[1,10,50,100,200,300,400,500,1000],\n",
    "                         'gamma':[1e-4, 1e-3, 1e-2, 1e-1, 1e0, 1e1],\n",
    "                         'kernel': ['rbf']}]\n",
    "    \n",
    "            \n",
    "            clf = GridSearchCV(clf_SVC, parameters, scoring = 'f1')\n",
    "            \n",
    "            # Fit the learner to the training data to obtain the best parameter set\n",
    "            clf.fit(X_train, y_train)\n",
    "            f1_scores.append(clf.score(X_test, y_test))\n",
    "            gamma.append(clf.best_params_['gamma'])\n",
    "            C.append(clf.best_params_['C'])\n",
    "            clf = clf.best_estimator_\n",
    "            #print clf\n",
    "        \n",
    "        df_f1 = pd.Series(f1_scores)\n",
    "        df_gamma = pd.Series(gamma)\n",
    "        df_C = pd.Series(C)\n",
    "        \n",
    "        print clf\n",
    "        print \"\\nF1 Scores:\"\n",
    "        print df_f1\n",
    "        print \"\\nC:\"\n",
    "        print df_C\n",
    "        print \"\\nGamma:\"\n",
    "        print df_gamma\n",
    "\n",
    "        print \"\\nAverage F1 Test Scores:\"\n",
    "        print df_f1.mean()\n",
    "        print \"\\nAverage C:\"\n",
    "        print df_C.mean()\n",
    "        print \"\\nAverage Gamma:\"\n",
    "        print df_gamma.mean()\n",
    "        "
   ]
  },
  {
   "cell_type": "code",
   "execution_count": 21,
   "metadata": {
    "collapsed": false,
    "scrolled": false
   },
   "outputs": [
    {
     "name": "stderr",
     "output_type": "stream",
     "text": [
      "/Library/Python/2.7/site-packages/sklearn/grid_search.py:418: ChangedBehaviorWarning: The long-standing behavior to use the estimator's score function in GridSearchCV.score has changed. The scoring parameter is now used.\n",
      "  ChangedBehaviorWarning)\n"
     ]
    },
    {
     "name": "stdout",
     "output_type": "stream",
     "text": [
      "SVC(C=10, cache_size=200, class_weight=None, coef0=0.0,\n",
      "  decision_function_shape=None, degree=3, gamma=0.001, kernel='rbf',\n",
      "  max_iter=-1, probability=False, random_state=None, shrinking=True,\n",
      "  tol=0.001, verbose=False)\n",
      "\n",
      "F1 Scores:\n",
      "0    0.807947\n",
      "1    0.810127\n",
      "2    0.800000\n",
      "dtype: float64\n",
      "\n",
      "C:\n",
      "0    100\n",
      "1      1\n",
      "2     10\n",
      "dtype: int64\n",
      "\n",
      "Gamma:\n",
      "0    0.0001\n",
      "1    0.1000\n",
      "2    0.0010\n",
      "dtype: float64\n",
      "\n",
      "Average F1 Test Scores:\n",
      "0.806024534049\n",
      "\n",
      "Average C:\n",
      "37.0\n",
      "\n",
      "Average Gamma:\n",
      "0.0337\n"
     ]
    }
   ],
   "source": [
    "iterate_fit_predict(3)"
   ]
  },
  {
   "cell_type": "markdown",
   "metadata": {},
   "source": [
    "# Confusion Matrix"
   ]
  },
  {
   "cell_type": "code",
   "execution_count": 33,
   "metadata": {
    "collapsed": false
   },
   "outputs": [],
   "source": [
    "from pandas_confusion import ConfusionMatrix\n",
    "\n",
    "def iterate_fit_predict_score(number_runs):\n",
    "        f1_scores = []\n",
    "        \n",
    "        y = reformat(student_data['passed'])\n",
    "        \n",
    "        for num in range(0,number_runs):\n",
    "            X_train, X_test, y_train, y_test = Stratified_Shuffle_Split(X_all, y, num_test)\n",
    "            clf_SVC = SVC()\n",
    "            parameters = [{'C':[1,10,50,100,200,300,400,500,1000],\n",
    "                         'gamma':[1e-4, 1e-3, 1e-2, 1e-1, 1e0, 1e1],\n",
    "                         'kernel': ['rbf']}]\n",
    "    \n",
    "            clf = GridSearchCV(clf_SVC, parameters, scoring = 'f1')\n",
    "            clf.fit(X_train, y_train)\n",
    "            y_true, y_pred = y_test, clf.predict(X_test)\n",
    "            target_names = [\"failed\",\"passed\"]\n",
    "            print(classification_report(y_true, y_pred,target_names=target_names))    \n",
    "            \n",
    "            # Print Conf_Matrix\n",
    "            conf_matrix = pd.crosstab(y_true, y_pred, rownames=['Actual'], colnames=['Predicted'], margins=True)\n",
    "            print \"\\nConf_Matrix:\", conf_matrix\n",
    "            \n",
    "            #Normalize Conf_Matrix:\n",
    "            conf_matrix_norm = conf_matrix / conf_matrix.sum(axis=1)\n",
    "            print \"\\nNormalize Conf_Matrix:\", conf_matrix_norm\n",
    "            \n",
    "            #Generate Confusion Matrix Plot\n",
    "            conf_matrix = metrics.confusion_matrix(y_true, y_pred)\n",
    "            labels = ['fail','pass']\n",
    "            pl.title('SVC: Confusion Matrix')\n",
    "            ax = pl.axes\n",
    "            sns.heatmap(conf_matrix, \n",
    "                    xticklabels=labels, \n",
    "                    yticklabels=labels,\n",
    "                    annot=True, fmt='')\n",
    "            pl.xlabel(\"Predicted\")\n",
    "            pl.ylabel(\"True\")"
   ]
  },
  {
   "cell_type": "code",
   "execution_count": 34,
   "metadata": {
    "collapsed": false,
    "scrolled": true
   },
   "outputs": [
    {
     "name": "stdout",
     "output_type": "stream",
     "text": [
      "             precision    recall  f1-score   support\n",
      "\n",
      "     failed       0.67      0.26      0.37        31\n",
      "     passed       0.72      0.94      0.82        64\n",
      "\n",
      "avg / total       0.70      0.72      0.67        95\n",
      "\n",
      "\n",
      "Conf_Matrix: Predicted   0   1  All\n",
      "Actual                \n",
      "0           8  23   31\n",
      "1           4  60   64\n",
      "All        12  83   95\n",
      "\n",
      "Normalize Conf_Matrix: Predicted         0         1       All\n",
      "Actual                                 \n",
      "0          0.129032  0.179688  0.163158\n",
      "1          0.064516  0.468750  0.336842\n",
      "All        0.193548  0.648438  0.500000\n"
     ]
    },
    {
     "data": {
      "image/png": "[encoded data removed]",
      "text/plain": [
       "<matplotlib.figure.Figure at 0x114262dd0>"
      ]
     },
     "metadata": {},
     "output_type": "display_data"
    }
   ],
   "source": [
    "iterate_fit_predict_score(1)"
   ]
  },
  {
   "cell_type": "markdown",
   "metadata": {},
   "source": [
    "# ROC and AUC"
   ]
  },
  {
   "cell_type": "code",
   "execution_count": 205,
   "metadata": {
    "collapsed": true
   },
   "outputs": [],
   "source": [
    "# Support Vector Machines:\n",
    "\n",
    "def reformat(col_data):\n",
    "    return col_data.replace(['yes', 'no'], [1, 0])\n",
    "\n",
    "def iterate_fit_predict_svc(number_runs):\n",
    "        f1_scores = []\n",
    "        auc = []\n",
    "\n",
    "        y = reformat(student_data['passed'])\n",
    "        \n",
    "        for num in range(0,number_runs):\n",
    "            X_train, X_test, y_train, y_test = Stratified_Shuffle_Split(X_all, y, num_test)\n",
    "            clf_SVC = SVC(probability=True)\n",
    "            parameters = [{'C':[1,10,50,100,200,300,400,500,1000],\n",
    "                         'gamma':[1e-4, 1e-3, 1e-2, 1e-1, 1e0, 1e1],\n",
    "                         'kernel': ['rbf']}]\n",
    "            \n",
    "            clf = GridSearchCV(clf_SVC, parameters, scoring = 'f1')\n",
    "            \n",
    "            # Fit the learner to the training data to obtain the best parameter set\n",
    "            clf.fit(X_train, y_train)\n",
    "            f1_scores.append(clf.score(X_test, y_test))\n",
    "            clf = clf.best_estimator_\n",
    "            \n",
    "            # Generate ROC Curve\n",
    "            preds = clf.predict_proba(X_test)[:,1]\n",
    "            fpr, tpr, _ = metrics.roc_curve(y_test, preds)\n",
    "            df = pd.DataFrame(dict(fpr=fpr, tpr=tpr))\n",
    "            auc_1 = metrics.auc(fpr,tpr)\n",
    "            auc.append(metrics.auc(fpr,tpr))\n",
    "            df_auc = pd.DataFrame(auc)\n",
    "            g1 = ggplot(df, aes(x='fpr', ymin=0, ymax='tpr')) +\\\n",
    "            geom_area(alpha=0.1, size=5, colour='green', fill = 'green') +\\\n",
    "            geom_line(aes(y='tpr')) +\\\n",
    "            ggtitle(\"ROC: Area Under Cuve = %s\" % str(auc_1)) \n",
    "            print g1\n",
    "        print \"\\nAverage Area Under Curve\"\n",
    "        print df_auc.mean()\n"
   ]
  },
  {
   "cell_type": "code",
   "execution_count": 209,
   "metadata": {
    "collapsed": false
   },
   "outputs": [
    {
     "data": {
      "image/png": "[encoded data removed]",
      "text/plain": [
       "<matplotlib.figure.Figure at 0x10a29e150>"
      ]
     },
     "metadata": {},
     "output_type": "display_data"
    },
    {
     "name": "stdout",
     "output_type": "stream",
     "text": [
      "<ggplot: (279092817)>\n",
      "\n",
      "Average Area Under Curve\n",
      "0    0.727319\n",
      "dtype: float64\n"
     ]
    }
   ],
   "source": [
    "iterate_fit_predict_svc(1)"
   ]
  }
 ],
 "metadata": {
  "kernelspec": {
   "display_name": "Python 2",
   "language": "python",
   "name": "python2"
  },
  "language_info": {
   "codemirror_mode": {
    "name": "ipython",
    "version": 2
   },
   "file_extension": ".py",
   "mimetype": "text/x-python",
   "name": "python",
   "nbconvert_exporter": "python",
   "pygments_lexer": "ipython2",
   "version": "2.7.6"
  }
 },
 "nbformat": 4,
 "nbformat_minor": 0
}
